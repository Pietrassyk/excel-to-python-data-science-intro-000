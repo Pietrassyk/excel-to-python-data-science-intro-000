{
 "cells": [
  {
   "cell_type": "markdown",
   "metadata": {
    "collapsed": true
   },
   "source": [
    "# Going further with dictionaries "
   ]
  },
  {
   "cell_type": "code",
   "execution_count": 6,
   "metadata": {},
   "outputs": [
    {
     "data": {
      "text/plain": [
       "array([45.83242153, 49.43733173, 28.63803904, 66.40270808, 32.06564415,\n",
       "       41.58252634, 55.02881417, 37.54711913, 39.42047781, 40.90992385,\n",
       "       55.51454045, 72.92208013, 50.41539393, 38.82074555, 55.39058321,\n",
       "       44.038403  , 49.80869503, 61.7500122 , 42.52129051, 50.09025251,\n",
       "       41.21892107, 48.4356583 , 52.56570452, 40.11220951, 46.61178034,\n",
       "       47.63815969, 43.62344988, 38.12387714, 35.78782773, 48.46504804,\n",
       "       47.3094304 , 72.31366789, 25.65232423, 51.12726505, 53.70444537,\n",
       "       63.59633863, 55.01857207, 41.55786296, 50.00009761, 55.42352572,\n",
       "       46.86491803, 57.71011738, 31.31909345, 67.31184666, 64.67678011,\n",
       "       46.64322661, 56.1134078 , 50.47970592, 41.70864711, 50.87710218,\n",
       "       60.00365887, 46.18907482, 46.24330577, 49.25529237, 54.3349633 ,\n",
       "       62.7837923 , 43.65320695, 55.08396243, 52.16116006, 31.41387614,\n",
       "       45.80683518, 48.67671102, 49.6042976 , 53.26003433, 29.59676951,\n",
       "       50.46255523, 43.22324423, 35.60560973, 55.2429643 , 57.35279576,\n",
       "       43.46749732, 58.42456282, 46.18483518, 50.66489009, 39.01261053,\n",
       "       65.84487056, 23.40550544, 49.08547377, 56.95119605, 29.66533454,\n",
       "       48.10530735, 49.22781335, 58.24703005, 62.48212921, 45.96107731,\n",
       "       36.15481333, 63.67235424, 62.17885633, 45.37994652, 53.50888494,\n",
       "       53.81866234, 55.66275441, 52.04207979, 64.06696242, 32.62040496,\n",
       "       60.40823953, 53.8047197 , 47.82864731, 61.73531498, 26.56396809,\n",
       "       61.61521491, 53.86078048, 38.66866726, 54.33092555, 46.95913561,\n",
       "       75.85294868, 68.35332723, 54.40689872, 42.80746159, 44.16585405,\n",
       "       46.74950372, 44.39765494, 40.97753932, 44.09027725, 47.23820508,\n",
       "       44.83116106, 43.0141005 , 40.71108075, 75.50438236, 35.26826752,\n",
       "       39.78585269, 54.32395701, 46.7641993 , 54.23824708, 57.99179995,\n",
       "       62.62613663, 57.51964849, 40.06239017, 61.09143281, 32.35082272,\n",
       "       48.85578703, 45.01825806, 39.39200964, 55.91666521, 48.16743426,\n",
       "       60.19854729, 35.17534522, 58.46311892, 54.97940148, 51.26504175,\n",
       "       35.81189449, 47.48225882, 34.53325389, 29.17348064, 82.79745401,\n",
       "       59.7086132 , 67.92592852, 45.70986681, 56.9619798 , 56.97416272,\n",
       "       56.01515814, 50.03659491, 47.71752442, 29.30387737, 56.10144086,\n",
       "       54.234969  , 61.17886733, 47.25757911, 67.41812188, 45.52499124,\n",
       "       37.44572782, 59.38163671, 45.3165374 , 37.45279693, 51.24823646,\n",
       "       57.56502143, 52.41439629, 54.97425649, 91.08692624, 58.21120877,\n",
       "       65.31760316, 30.14154226, 53.65053516, 57.74082033, 46.35520908,\n",
       "       41.24020522, 53.96520159, 46.85382564, 44.06244417, 61.49500568,\n",
       "       63.35566168, 53.02629336, 45.45772145, 55.14370717, 58.29458431,\n",
       "       56.30621967, 35.4663565 , 46.61982223, 53.59133332, 56.22220414,\n",
       "       59.60781945, 57.58370347, 38.65681517, 42.92579112, 37.78570835,\n",
       "       68.04476642, 51.80409807, 55.53164274, 60.33029066, 46.70997565,\n",
       "       38.48997056, 45.73477529, 48.51852809, 65.01436915, 58.69598198,\n",
       "       39.12909425, 56.64221413, 57.34884668, 39.38634256, 48.91483176,\n",
       "       31.49596026, 53.30488064, 46.8430679 , 36.49997897, 43.01829002,\n",
       "       52.39951198, 44.4705056 , 52.99526813, 55.52663696, 41.59556988,\n",
       "       46.8772933 , 71.44678089, 51.21105582, 41.53171248, 50.60462449,\n",
       "       36.6141112 , 61.32746076, 53.70304843, 60.85806404, 59.02179395,\n",
       "       53.9029645 , 59.75509412, 51.91573647, 43.37790988, 39.76485015,\n",
       "       45.51825177, 24.94541868, 68.25994457, 32.85932589, 49.23360436,\n",
       "       36.8243273 , 29.74406408, 49.17754625, 46.95333415, 48.4027587 ,\n",
       "       55.4894656 , 43.81624515, 53.78794466, 55.13251444, 46.65155875,\n",
       "       47.16480484, 55.38424263, 50.57250947, 51.59088487, 26.25597316,\n",
       "       50.58519935, 53.76545911, 48.64520236, 53.35908395, 69.04375909,\n",
       "       50.85364433, 56.65334278, 41.50004497, 41.47658203, 45.20014888,\n",
       "       39.80350901, 49.92398862, 40.66169339, 48.25003156, 35.62856568,\n",
       "       33.47799709, 43.24338211, 39.32932876, 43.47068855, 43.8790525 ,\n",
       "       46.48737539, 60.45477988, 63.69016024, 57.25353259, 46.40525541,\n",
       "       64.9695179 , 34.68888892, 29.76636061, 52.67972576, 49.97793555,\n",
       "       48.60708117, 50.32565469, 33.59439775, 38.43300829, 62.34034681,\n",
       "       60.28184899, 42.78120274, 69.33156966, 39.29203674, 44.28618392,\n",
       "       52.92432067, 38.05000105, 45.12069456, 48.26928835, 46.04653599,\n",
       "       58.70840765, 55.92806797, 39.00702691, 43.18469356, 51.80066685,\n",
       "       49.33068956, 42.1225046 , 54.24753672, 58.19885117, 43.68881317,\n",
       "       57.89059649, 33.78326197, 33.89500741, 54.99939764, 41.65484793,\n",
       "       40.03040313, 47.36611923, 43.22639508, 53.27067038, 35.44640555,\n",
       "       46.28480876, 81.6096597 , 51.09951013, 30.86476782, 55.99820429,\n",
       "       55.49384465, 63.83781035, 51.48349243, 43.46458556, 64.08833984,\n",
       "       57.12061227, 31.99283959, 57.47598942, 47.67102999, 61.1064528 ,\n",
       "       46.26661187, 57.8614607 , 51.94168696, 55.86204098, 49.79612708,\n",
       "       45.85591402, 50.67313412, 56.31798924, 54.17592731, 66.15176269,\n",
       "       54.25606211, 56.35363758, 71.02229267, 50.66126417, 55.35558351,\n",
       "       43.96859208, 50.41957629, 66.41914637, 53.11697707, 64.511699  ,\n",
       "       39.3507212 , 35.99154545, 53.07525527, 36.30361327, 76.70337245,\n",
       "       62.48450298, 37.54273447, 48.32831226, 44.2338907 , 54.16021749,\n",
       "       49.42152737, 59.31887358, 64.68332133, 47.78679057, 38.26844379,\n",
       "       55.62669078, 48.35484943, 61.44855376, 48.47882313, 58.29789046,\n",
       "       53.36065952, 48.10955949, 45.50671399, 57.13524448, 75.29734874,\n",
       "       58.37615794, 48.68317597, 57.07592866, 51.14053878, 37.19104822,\n",
       "       53.09846277, 65.48290694, 46.84171957, 38.74096219, 54.88496666,\n",
       "       68.30946657, 59.40175993, 60.18717047, 73.02378289, 66.21092978,\n",
       "       57.12683273, 47.91296371, 51.37617991, 48.96647832, 58.48350567,\n",
       "       41.16874439, 65.45386826, 51.45840073, 45.99893944, 58.15206041,\n",
       "       29.25077635, 41.65562609, 43.42281553, 58.20564332, 45.10842999,\n",
       "       64.24967034, 45.53142103, 55.21109431, 42.9180562 , 61.5553059 ,\n",
       "       47.45469541, 55.18924924, 45.07005089, 39.13451847, 47.69082503,\n",
       "       60.98010039, 39.8212195 , 34.70608645, 46.92012263, 57.80754356,\n",
       "       39.44160361, 44.56116619, 51.84301739, 46.69324157, 52.87208202,\n",
       "       61.89528137, 50.21201548, 49.3459032 , 57.66115904, 49.38364915,\n",
       "       40.47102848, 39.85536936, 38.84736037, 69.12600678, 49.54736797,\n",
       "       55.76909718, 57.17805695, 40.61001002, 56.28775807, 44.35506568,\n",
       "       29.12192538, 47.84949868, 39.24971436, 46.62027851, 53.43212732,\n",
       "       72.8253964 , 45.04221152, 48.36037168, 53.71622161, 51.8652152 ,\n",
       "       48.41570776, 39.17070443, 40.4337448 , 48.16623265, 38.40193104,\n",
       "       43.42231638, 37.48551594, 61.24482861, 35.02160194, 69.02017223,\n",
       "       44.19616962, 39.45084326, 38.17242796, 57.79480054, 60.26597951,\n",
       "       41.51333999, 53.31539648, 48.50408647, 47.575594  , 51.51197175,\n",
       "       57.65069481, 30.83369481, 27.72658708, 52.06689897, 49.29123644,\n",
       "       56.84759969, 32.92460949, 40.13430335, 65.43536339, 36.89729471,\n",
       "       53.63433972, 42.05127555, 45.94713733, 36.22242069, 61.86048676,\n",
       "       30.96178857, 38.01859622, 40.89934357, 61.76454193, 52.9921067 ,\n",
       "       56.79267178, 49.8233932 , 52.36040923, 54.94035871, 65.46277646,\n",
       "       52.46857508, 35.31224201, 61.47099942, 50.95556985, 38.92561274,\n",
       "       48.23713859, 40.17244333, 70.86682727, 46.55376329, 29.97920767,\n",
       "       53.03234433, 41.70125155, 62.88769407, 51.34925462, 32.21399359,\n",
       "       44.9920851 , 39.11838431, 42.42144447, 43.562551  , 29.91215473,\n",
       "       51.96262894, 41.2410363 , 41.06390791, 57.51902355, 68.96932244,\n",
       "       43.70920849, 68.12085527, 29.43734259, 55.62704887, 44.17929243,\n",
       "       49.25997025, 40.13503636, 44.05277501, 46.85188157, 46.53059468,\n",
       "       54.11443516, 73.26390901, 43.65946872, 48.45590038, 32.50711196,\n",
       "       24.80420704, 63.91162427, 36.70653557, 42.54403586, 50.2126085 ,\n",
       "       59.10917515, 53.15276082, 68.66208205, 48.17502377, 31.7173366 ,\n",
       "       51.38955717, 51.19450165, 41.811008  , 46.67360735, 44.13612045,\n",
       "       67.34516344, 43.87248442, 36.06557983, 52.79433757, 31.77768732,\n",
       "       54.27017458, 54.06987749, 41.55691759, 44.40179887, 43.99479595,\n",
       "       66.14873237, 53.9495322 , 37.96186531, 37.52527568, 49.2245375 ,\n",
       "       49.86660249, 42.3167675 , 52.9123401 , 48.02669052, 60.7682965 ,\n",
       "       54.37410232, 49.06802134, 51.35631416, 41.17291178, 58.84744194,\n",
       "       53.83204463, 45.83005851, 51.1779655 , 44.63314691, 74.87184575,\n",
       "       45.48638946, 55.18836127, 53.64448005, 42.01651271, 50.05657797,\n",
       "       46.79065292, 52.4951355 , 52.56308392, 57.67625083, 57.83020087,\n",
       "       45.92936953, 44.75108333, 44.10191317, 41.37468914, 32.57127096,\n",
       "       56.03671461, 49.20386548, 47.88727309, 33.42265256, 34.9895991 ,\n",
       "       24.84560544, 48.97038969, 56.69229029, 55.94309157, 49.21892663,\n",
       "       39.21260512, 49.91018371, 50.02359334, 57.05752538, 57.65867459,\n",
       "       47.33763262, 49.65314634, 56.96193752, 54.57188521, 48.29298449,\n",
       "       28.31381501, 43.34819834, 58.38712986, 51.4982795 , 59.531774  ,\n",
       "       46.54758035, 50.80270618, 57.93524596, 56.87824159, 53.91682864,\n",
       "       60.88858466, 63.35311752, 63.9034601 , 33.483204  , 45.13681419,\n",
       "       46.7143153 , 46.35384997, 33.62385616, 63.01120423, 39.98694847,\n",
       "       50.99499265, 25.95773947, 44.92926198, 47.41950574, 40.64131086,\n",
       "       57.35410461, 73.8048446 , 41.2441867 , 41.34790036, 67.51818161,\n",
       "       55.62041138, 46.83905972, 37.20443116, 57.32650013, 52.13158678,\n",
       "       65.52513434, 41.29047887, 48.26438614, 46.92064611, 47.83168735,\n",
       "       60.5763457 , 58.42369345, 43.5958109 , 49.07676711, 47.69186992,\n",
       "       58.89122318, 48.23753933, 38.82038149, 46.54691745, 49.52222861,\n",
       "       59.17220478, 62.75826901, 62.90767962, 53.64108618, 44.82065676,\n",
       "       55.8128624 , 48.09075435, 43.74746482, 52.89252536, 54.00297487,\n",
       "       58.63532101, 40.9511812 , 33.26364015, 54.99184358, 40.28667794,\n",
       "       59.90152682, 38.91648333, 44.099094  , 31.81747543, 70.36649939,\n",
       "       45.29193233, 49.04030529, 44.59853987, 47.45488789, 58.13676395,\n",
       "       50.88131057, 49.71064154, 61.72682561, 36.29576017, 61.1352979 ,\n",
       "       65.76890178, 35.93300415, 52.52945926, 36.94566573, 28.70130795,\n",
       "       41.32874495, 55.05364896, 57.38651836, 46.13374219, 41.15422297,\n",
       "       45.42691172, 42.64359477, 43.5079484 , 25.71746542, 47.42875031,\n",
       "       48.63021704, 71.62462412, 56.57551247, 48.39737441, 50.53026483,\n",
       "       53.08356262, 42.77711945, 28.96441657, 42.48625158, 47.51856665,\n",
       "       50.93571787, 42.60392924, 40.54248288, 47.1229629 , 50.30060056,\n",
       "       55.47261804, 47.33682132, 54.14103748, 39.77011781, 57.8952256 ,\n",
       "       49.19252043, 36.12830587, 47.23333637, 50.8282248 , 39.12605203,\n",
       "       57.02013525, 46.43864069, 54.31988981, 39.82137271, 52.87747172,\n",
       "       57.04450885, 45.37134124, 47.8554725 , 44.07033289, 53.11603984,\n",
       "       50.1003437 , 54.78804609, 49.19694408, 37.07776189, 36.66596012,\n",
       "       45.30159323, 54.40206796, 72.42663471, 58.48821449, 43.66738809,\n",
       "       29.5413332 , 54.94493866, 49.98047088, 37.68335509, 58.7568893 ,\n",
       "       49.89224358, 45.69664446, 30.49722937, 59.49121728, 50.50906988,\n",
       "       47.33978936, 40.21069349, 46.16190154, 62.21850261, 55.07226604,\n",
       "       69.89835295, 60.48388658, 53.32762523, 58.84358999, 51.48886189,\n",
       "       35.37321654, 43.8315553 , 53.21335796, 40.53553136, 44.69860592,\n",
       "       37.40792985, 66.77544064, 36.68838272, 39.47125891, 41.01014509,\n",
       "       59.61104313, 61.1651599 , 44.34880616, 55.65121735, 40.9663909 ,\n",
       "       49.92357689, 76.03699668, 59.3591615 , 49.49133327, 36.65587716,\n",
       "       46.91997268, 36.71084857, 28.07033297, 55.99465615, 55.76275114,\n",
       "       51.93928425, 59.93505594, 33.22434618, 63.92130115, 39.11248323,\n",
       "       53.74289725, 54.51433955, 60.74361412, 69.96110778, 53.4544937 ,\n",
       "       46.171969  , 38.86698688, 52.58003025, 41.51585543, 36.41545955,\n",
       "       47.97159262, 56.71146763, 46.90016825, 39.46667989, 51.41641453,\n",
       "       37.5589606 , 34.81627373, 64.58970971, 52.42874291, 69.80219955,\n",
       "       35.25372044, 60.36917821, 48.23144111, 76.79644235, 47.84575849,\n",
       "       45.55545229, 54.23820961, 51.88960995, 45.40865072, 59.11747865,\n",
       "       56.90180924, 58.85691503, 54.00418848, 42.90345811, 42.99721913,\n",
       "       55.92992793, 40.60942633, 66.98044509, 50.32494718, 42.05822036,\n",
       "       60.37564906, 49.79806661, 61.97179835, 52.11787178, 67.68297432,\n",
       "       46.16514817, 28.15822436, 34.83795239, 33.66116369, 55.89894304,\n",
       "       68.09144985, 48.04962091, 36.65641421, 56.82921371, 54.53701773,\n",
       "       46.1883538 , 54.07948363, 50.06410206, 38.49782329, 56.85617746,\n",
       "       44.95231626, 40.50311119, 47.63676609, 65.68005002, 69.62369646,\n",
       "       64.00136834, 45.04997577, 39.72830924, 53.43942724, 48.37996645,\n",
       "       51.39032527, 38.6959591 , 41.13780875, 39.24107726, 57.7270374 ,\n",
       "       60.62319314, 43.17376399, 55.82613831, 56.41540019, 42.6006813 ,\n",
       "       50.09876069, 58.13433674, 39.85337317, 62.46281732, 47.93829748,\n",
       "       50.59367595, 47.5565089 , 35.18228453, 53.3903748 , 49.93172506,\n",
       "       45.89863258, 47.80057833, 54.17309223, 48.52582916, 44.69757247,\n",
       "       50.80430399, 57.54160973, 50.35925282, 42.03818605, 58.30878534,\n",
       "       47.03591429, 55.85360099, 48.54035589, 40.55701724, 37.24887446,\n",
       "       40.99499686, 47.65859001, 27.47314718, 53.8300858 , 60.99608626,\n",
       "       47.57837984, 38.90491999, 33.33022872, 52.25317802, 54.11975689,\n",
       "       50.57585651, 56.96361151, 43.27579579, 47.47454118, 52.7575109 ,\n",
       "       47.73968437, 54.8720024 , 54.95588395, 47.28178874, 40.36034787,\n",
       "       42.75622591, 60.95542259, 37.95832031, 50.59730953, 40.03674845,\n",
       "       73.07115281, 43.6545885 , 56.33710809, 40.31500241, 81.91901247,\n",
       "       36.63773134, 53.56435819, 37.46935303, 58.19206834, 37.44187785,\n",
       "       45.56488538, 34.04865601, 46.02294244, 50.00628684, 67.41224557,\n",
       "       26.9696718 , 55.44911801, 50.41930951, 43.91085804, 47.87805862,\n",
       "       53.90698517, 49.62479702, 49.55948572, 42.19383609, 45.98973106,\n",
       "       54.83982464, 40.77556371, 44.81025315, 50.73428282, 53.25968553,\n",
       "       53.85998076, 47.98011256, 29.6554877 , 57.61485079, 60.0147133 ,\n",
       "       61.94510163, 53.39459772, 58.43393007, 47.02825216, 38.85688529,\n",
       "       48.24669221, 47.50307409, 59.91660289, 57.92990718, 44.7734491 ,\n",
       "       45.70987737, 49.47135261, 50.62992675, 64.04529746, 44.98487515,\n",
       "       62.72244626, 35.98146873, 43.06774402, 66.47875171, 53.73226981,\n",
       "       50.81931793, 55.68725594, 47.65517332, 50.35110238, 51.9678527 ])"
      ]
     },
     "execution_count": 6,
     "metadata": {},
     "output_type": "execute_result"
    }
   ],
   "source": [
    "import numpy as np\n",
    "np.random.seed(2)\n",
    "data = np.random.normal(50.0,10.0,1000)\n",
    "data"
   ]
  },
  {
   "cell_type": "markdown",
   "metadata": {},
   "source": [
    "### Introduction"
   ]
  },
  {
   "cell_type": "markdown",
   "metadata": {},
   "source": [
    "Now that we know a little bit about lists and dictionaries, we can take data in a different digital format, and move it into code.  In this lesson, we'll see that in just a few lines of code, we can use Python to work with data in other formats.  Then we'll learn a couple of other methods for working with dictionaries: `keys()`, `values()`, and the `dict()` constructor."
   ]
  },
  {
   "cell_type": "markdown",
   "metadata": {},
   "source": [
    "### Objectives"
   ]
  },
  {
   "cell_type": "markdown",
   "metadata": {},
   "source": [
    "* Understand how the list data structure aligns with data in non-programming contexts\n",
    "* Understand how the dictionary data structure aligns with data in non-programming contexts\n",
    "* See some of the steps involved in getting data from a different format and into code"
   ]
  },
  {
   "cell_type": "markdown",
   "metadata": {},
   "source": [
    "### From Google Sheet to Local File"
   ]
  },
  {
   "cell_type": "markdown",
   "metadata": {},
   "source": [
    "For example, here is [our list of travel cities and countries](https://docs.google.com/spreadsheets/d/1BTJMMFH9t4p5UmHj5kiC6PGfMN6yaaaZkocx0mDqTK0/edit?usp=drive_web&ouid=111878893823071965889) in the form of a google document.  If you click on the link, you will see our spreadsheet."
   ]
  },
  {
   "cell_type": "markdown",
   "metadata": {},
   "source": [
    "![](./countries-cities.png)"
   ]
  },
  {
   "cell_type": "markdown",
   "metadata": {},
   "source": [
    "Now if we download this spreadsheet in the form of an .xlsx file we can start to work with it."
   ]
  },
  {
   "cell_type": "markdown",
   "metadata": {},
   "source": [
    "![](./download-xls.png)"
   ]
  },
  {
   "cell_type": "markdown",
   "metadata": {},
   "source": [
    "We've already placed that file into this lesson, and you can see it [here](https://github.com/learn-co-curriculum/excel-to-python), where the contents of this lesson are also located."
   ]
  },
  {
   "cell_type": "markdown",
   "metadata": {},
   "source": [
    "### From Local File to Python "
   ]
  },
  {
   "cell_type": "markdown",
   "metadata": {},
   "source": [
    "Now that we have this file in the folder we are working with, we can get this data into Python code in a few lines."
   ]
  },
  {
   "cell_type": "markdown",
   "metadata": {},
   "source": [
    "> ** Deep breath, soft eyes**: In the gray box below are four lines of code. They go over some topics we did not cover yet.  So don't worry, if you don't follow everything right now.  By the end of this unit, you will understand all of the code.  For right now, it's fine to just have a slight sense of what's going on.  "
   ]
  },
  {
   "cell_type": "code",
   "execution_count": 6,
   "metadata": {},
   "outputs": [
    {
     "data": {
      "text/plain": [
       "{'City': 'Solta', 'Country': 'Croatia', 'Population': 1700, 'Area': 59}"
      ]
     },
     "execution_count": 6,
     "metadata": {},
     "output_type": "execute_result"
    }
   ],
   "source": [
    "import pandas\n",
    "travel_df = pandas.read_excel('./cities.xlsx')\n",
    "cities = travel_df.to_dict('records')\n",
    "cities[0]"
   ]
  },
  {
   "cell_type": "markdown",
   "metadata": {},
   "source": [
    "> Press shift+enter to run the code."
   ]
  },
  {
   "cell_type": "markdown",
   "metadata": {},
   "source": [
    "The code above relies on using an outside library called `pandas`, as it's good at reading excel files.  A library is just a set of reusable functions.  The `pandas` library is available for free online.  We tell our current Jupyter notebook that we are about to use it with the line `import pandas`.  \n",
    "\n",
    "And that gives us an object, like a dictionary, which has a method on it called `read_excel`.  Similar to how we can call `{'foo': 'bar'}.keys()`.  That's the benefit of a library, we can get methods that do not come out of the box with Python.  So we use the `read_excel` data to read our excel file, by providing the name of the file, `cities.xlsx`, and the preceding `./` just indicates that the file is found in the current folder.  Finally with the line `travel_df.to_dict('records')` we return a list of our dictionaries representing our data.  You can see that when we access the first element of this list, it returns our first dictionary.  "
   ]
  },
  {
   "cell_type": "markdown",
   "metadata": {},
   "source": [
    "Here is the code again, with some comments, if you are interested."
   ]
  },
  {
   "cell_type": "code",
   "execution_count": 1,
   "metadata": {},
   "outputs": [],
   "source": [
    "# Here we use a library, which is some code not part of standard Python, to make this process easier \n",
    "import pandas\n",
    "# If we use the `import pandas` we have access to the pandas library \n",
    "travel_df = pandas.read_excel('./cities.xlsx')\n",
    "# We call the pandas.read_excel method and pass through the string './cities.xlsx' as the file is called cities.xlsx.  By saying './' we are saying \n",
    "# go to the current folder, lists-lab, and find the 'cities.xlsx' file there\n",
    "cities = travel_df.to_dict('records')"
   ]
  },
  {
   "cell_type": "code",
   "execution_count": 3,
   "metadata": {},
   "outputs": [
    {
     "data": {
      "text/plain": [
       "[{'Area': 59, 'City': 'Solta', 'Country': 'Croatia', 'Population': 1700},\n",
       " {'Area': 68, 'City': 'Greenville', 'Country': 'USA', 'Population': 84554},\n",
       " {'Area': 4758,\n",
       "  'City': 'Buenos Aires',\n",
       "  'Country': 'Argentina',\n",
       "  'Population': 13591863},\n",
       " {'Area': 3750,\n",
       "  'City': 'Los Cabos',\n",
       "  'Country': 'Mexico',\n",
       "  'Population': 287651},\n",
       " {'Area': 33,\n",
       "  'City': 'Walla Walla Valley',\n",
       "  'Country': 'USA',\n",
       "  'Population': 32237},\n",
       " {'Area': 200, 'City': 'Marakesh', 'Country': 'Morocco', 'Population': 928850},\n",
       " {'Area': 491,\n",
       "  'City': 'Albuquerque',\n",
       "  'Country': 'New Mexico',\n",
       "  'Population': 559277},\n",
       " {'Area': 8300,\n",
       "  'City': 'Archipelago Sea',\n",
       "  'Country': 'Finland',\n",
       "  'Population': 60000},\n",
       " {'Area': 672,\n",
       "  'City': 'Iguazu Falls',\n",
       "  'Country': 'Argentina',\n",
       "  'Population': 0},\n",
       " {'Area': 27, 'City': 'Salina Island', 'Country': 'Italy', 'Population': 4000},\n",
       " {'Area': 2731571, 'City': 'Toronto', 'Country': 'Canada', 'Population': 630},\n",
       " {'Area': 3194,\n",
       "  'City': 'Pyeongchang',\n",
       "  'Country': 'South Korea',\n",
       "  'Population': 2581000}]"
      ]
     },
     "execution_count": 3,
     "metadata": {},
     "output_type": "execute_result"
    }
   ],
   "source": [
    "cities"
   ]
  },
  {
   "cell_type": "markdown",
   "metadata": {},
   "source": [
    "Look at that. Our variable `cities` is full of cities from our spreadsheet."
   ]
  },
  {
   "cell_type": "markdown",
   "metadata": {},
   "source": [
    "![](./countries-cities.png)"
   ]
  },
  {
   "cell_type": "markdown",
   "metadata": {},
   "source": [
    "And we got there in four lines of code."
   ]
  },
  {
   "cell_type": "code",
   "execution_count": 10,
   "metadata": {
    "collapsed": true
   },
   "outputs": [],
   "source": [
    "import pandas\n",
    "file_name = './cities.xlsx'\n",
    "travel_df = pandas.read_excel(file_name)\n",
    "cities = travel_df.to_dict('records')"
   ]
  },
  {
   "cell_type": "markdown",
   "metadata": {},
   "source": [
    "And now that we have data, we can operate on it just like a normal list of dictionaries."
   ]
  },
  {
   "cell_type": "markdown",
   "metadata": {},
   "source": [
    "### Working with the keys and values functions"
   ]
  },
  {
   "cell_type": "markdown",
   "metadata": {},
   "source": [
    "Now that we have the data in Python, we can use a couple of other of functions to quickly explore our data.  For example, let's say that we want to remind ourselves of all of the attributes associated with a single city.  If we just look at the first element we see both the keys and values."
   ]
  },
  {
   "cell_type": "code",
   "execution_count": 7,
   "metadata": {},
   "outputs": [
    {
     "data": {
      "text/plain": [
       "{'City': 'Solta', 'Country': 'Croatia', 'Population': 1700, 'Area': 59}"
      ]
     },
     "execution_count": 7,
     "metadata": {},
     "output_type": "execute_result"
    }
   ],
   "source": [
    "cities[0]"
   ]
  },
  {
   "cell_type": "markdown",
   "metadata": {},
   "source": [
    "But, we really only need to see the keys."
   ]
  },
  {
   "cell_type": "code",
   "execution_count": 8,
   "metadata": {},
   "outputs": [
    {
     "data": {
      "text/plain": [
       "dict_keys(['City', 'Country', 'Population', 'Area'])"
      ]
     },
     "execution_count": 8,
     "metadata": {},
     "output_type": "execute_result"
    }
   ],
   "source": [
    "cities[0].keys()"
   ]
  },
  {
   "cell_type": "markdown",
   "metadata": {},
   "source": [
    "Note that the `keys()` function returns a `dict_keys` object.  It's a little tricky to work with that type of object, so let's coerce it into a list."
   ]
  },
  {
   "cell_type": "code",
   "execution_count": 9,
   "metadata": {},
   "outputs": [
    {
     "data": {
      "text/plain": [
       "['City', 'Country', 'Population', 'Area']"
      ]
     },
     "execution_count": 9,
     "metadata": {},
     "output_type": "execute_result"
    }
   ],
   "source": [
    "list(cities[0].keys())"
   ]
  },
  {
   "cell_type": "markdown",
   "metadata": {},
   "source": [
    "Much better."
   ]
  },
  {
   "cell_type": "markdown",
   "metadata": {},
   "source": [
    "If we would like to also see our values of a dictionary in a list, we can do something similar with the `.values()` function for a dictionary."
   ]
  },
  {
   "cell_type": "code",
   "execution_count": 10,
   "metadata": {},
   "outputs": [
    {
     "data": {
      "text/plain": [
       "dict_values(['Solta', 'Croatia', 1700, 59])"
      ]
     },
     "execution_count": 10,
     "metadata": {},
     "output_type": "execute_result"
    }
   ],
   "source": [
    "cities[0].values()"
   ]
  },
  {
   "cell_type": "code",
   "execution_count": 11,
   "metadata": {},
   "outputs": [
    {
     "data": {
      "text/plain": [
       "['Solta', 'Croatia', 1700, 59]"
      ]
     },
     "execution_count": 11,
     "metadata": {},
     "output_type": "execute_result"
    }
   ],
   "source": [
    "list(cities[0].values())"
   ]
  },
  {
   "cell_type": "markdown",
   "metadata": {},
   "source": [
    "Once again, we call the method, and then coerce it into a list, by using the `list` function."
   ]
  },
  {
   "cell_type": "markdown",
   "metadata": {},
   "source": [
    "### Creating Dictionaries"
   ]
  },
  {
   "cell_type": "markdown",
   "metadata": {},
   "source": [
    "So far, we have seen one way of creating dictionaries: "
   ]
  },
  {
   "cell_type": "code",
   "execution_count": 12,
   "metadata": {},
   "outputs": [],
   "source": [
    "philadelphia = {'City': 'Philadelphia'}"
   ]
  },
  {
   "cell_type": "markdown",
   "metadata": {},
   "source": [
    "But there is another way!"
   ]
  },
  {
   "cell_type": "code",
   "execution_count": 13,
   "metadata": {},
   "outputs": [
    {
     "data": {
      "text/plain": [
       "{'city': 'Pittsburgh'}"
      ]
     },
     "execution_count": 13,
     "metadata": {},
     "output_type": "execute_result"
    }
   ],
   "source": [
    "pittsburgh = dict(city='Pittsburgh')\n",
    "pittsburgh"
   ]
  },
  {
   "cell_type": "markdown",
   "metadata": {},
   "source": [
    "As you can see, by using the keyword `dict`, we can pass through the name of the key followed by the equal sign.  Notice that the key name is provided as a string, but Python still knows how to handle it.  \n",
    "\n",
    "Let's do one more."
   ]
  },
  {
   "cell_type": "code",
   "execution_count": 14,
   "metadata": {},
   "outputs": [
    {
     "data": {
      "text/plain": [
       "{'city': 'Las Vegas', 'state': 'Nevada'}"
      ]
     },
     "execution_count": 14,
     "metadata": {},
     "output_type": "execute_result"
    }
   ],
   "source": [
    "dict(city=\"Las Vegas\", state=\"Nevada\")"
   ]
  },
  {
   "cell_type": "markdown",
   "metadata": {},
   "source": [
    "### Summary"
   ]
  },
  {
   "cell_type": "markdown",
   "metadata": {
    "collapsed": true
   },
   "source": [
    "In this section we saw how to get our data from the outside world and into Python.  As we become better at Python, the usefulness of taking data and operating on it in code rather than a spreadsheet will become more apparent. We can even begin to try out our new skills with Python and our own data files outside of this lesson.\n",
    "\n",
    "Next, we saw a few more methods for operating on dictionaries in Python.  Namely, we saw how to use the `keys()` function to retrieve the keys of a dictionary, and the `values()` function to retrieve the dictionary's values.  Finally, we saw how to use the `dict()` constructor to create a new dictionary."
   ]
  }
 ],
 "metadata": {
  "kernelspec": {
   "display_name": "Python 3",
   "language": "python",
   "name": "python3"
  },
  "language_info": {
   "codemirror_mode": {
    "name": "ipython",
    "version": 3
   },
   "file_extension": ".py",
   "mimetype": "text/x-python",
   "name": "python",
   "nbconvert_exporter": "python",
   "pygments_lexer": "ipython3",
   "version": "3.6.6"
  }
 },
 "nbformat": 4,
 "nbformat_minor": 2
}
